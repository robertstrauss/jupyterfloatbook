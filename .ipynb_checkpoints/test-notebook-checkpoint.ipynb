{
 "cells": [
  {
   "cell_type": "code",
   "execution_count": null,
   "metadata": {
    "floatbook": {
     "cellblock": {},
     "cellblockid": "272559585",
     "cellblockuid": {}
    },
    "floatposition": {
     "left": -194,
     "top": -14
    },
    "floatsize": {
     "width": 910
    }
   },
   "outputs": [],
   "source": []
  },
  {
   "cell_type": "code",
   "execution_count": null,
   "metadata": {
    "floatbook": {
     "cellblock": {},
     "cellblockid": "272559585",
     "cellblockuid": {}
    },
    "floatposition": {
     "left": 98,
     "top": -65
    },
    "floatsize": {
     "width": 909.969
    }
   },
   "outputs": [],
   "source": [
    "djkkjnk jkhjh"
   ]
  },
  {
   "cell_type": "code",
   "execution_count": null,
   "metadata": {
    "floatbook": {
     "cellblock": {},
     "cellblockid": "575186760",
     "cellblockuid": {}
    },
    "floatposition": {
     "left": 307,
     "top": 164
    },
    "floatsize": {
     "width": 1012
    }
   },
   "outputs": [],
   "source": [
    "mn"
   ]
  },
  {
   "cell_type": "code",
   "execution_count": null,
   "metadata": {
    "floatbook": {
     "cellblock": {},
     "cellblockid": "575186760",
     "cellblockuid": {}
    },
    "floatposition": {
     "left": -4,
     "top": 71
    },
    "floatsize": {
     "width": 708.969
    }
   },
   "outputs": [],
   "source": [
    "a"
   ]
  },
  {
   "cell_type": "code",
   "execution_count": null,
   "metadata": {
    "floatbook": {
     "cellblock": {},
     "cellblockid": "903666077",
     "cellblockuid": {}
    },
    "floatposition": {
     "left": -4,
     "top": 71
    },
    "floatsize": {
     "width": 1110
    }
   },
   "outputs": [],
   "source": []
  },
  {
   "cell_type": "code",
   "execution_count": null,
   "metadata": {
    "floatbook": {
     "cellblock": {},
     "cellblockid": "799013167",
     "cellblockuid": {}
    },
    "floatposition": {
     "left": -4,
     "top": 71
    },
    "floatsize": {
     "width": 1110
    }
   },
   "outputs": [],
   "source": []
  },
  {
   "cell_type": "code",
   "execution_count": null,
   "metadata": {
    "floatbook": {
     "cellblock": {},
     "cellblockid": "97889618",
     "cellblockuid": {}
    },
    "floatposition": {
     "left": 86,
     "top": 145
    },
    "floatsize": {
     "width": 1110
    }
   },
   "outputs": [],
   "source": []
  },
  {
   "cell_type": "code",
   "execution_count": null,
   "metadata": {
    "floatbook": {
     "cellblock": {},
     "cellblockid": "238960054",
     "cellblockuid": {}
    },
    "floatposition": {
     "left": 146,
     "top": 204
    }
   },
   "outputs": [],
   "source": []
  },
  {
   "cell_type": "code",
   "execution_count": null,
   "metadata": {
    "floatbook": {
     "cellblock": {},
     "cellblockid": "396669224",
     "cellblockuid": {}
    },
    "floatposition": {
     "left": -4,
     "top": 71
    },
    "floatsize": {
     "width": 910
    }
   },
   "outputs": [],
   "source": []
  },
  {
   "cell_type": "code",
   "execution_count": null,
   "metadata": {
    "floatbook": {
     "cellblock": {},
     "cellblockid": "88611760",
     "cellblockuid": {}
    },
    "floatposition": {
     "left": -4,
     "top": 71
    },
    "floatsize": {
     "width": 1110
    }
   },
   "outputs": [],
   "source": []
  },
  {
   "cell_type": "code",
   "execution_count": null,
   "metadata": {
    "floatbook": {
     "cellblock": {},
     "cellblockid": "752208905",
     "cellblockuid": {}
    },
    "floatposition": {
     "left": 307,
     "top": 164
    },
    "floatsize": {
     "width": 910
    }
   },
   "outputs": [],
   "source": []
  },
  {
   "cell_type": "code",
   "execution_count": null,
   "metadata": {
    "floatbook": {
     "cellblock": {},
     "cellblockid": "364503762",
     "cellblockuid": {}
    },
    "floatposition": {
     "left": -4,
     "top": 71
    },
    "floatsize": {
     "width": 910
    }
   },
   "outputs": [],
   "source": []
  },
  {
   "cell_type": "code",
   "execution_count": null,
   "metadata": {
    "floatbook": {
     "cellblock": {},
     "cellblockid": "945995332",
     "cellblockuid": {}
    },
    "floatposition": {
     "left": 307,
     "top": 164
    }
   },
   "outputs": [],
   "source": []
  },
  {
   "cell_type": "code",
   "execution_count": 2,
   "metadata": {
    "floatbook": {
     "cellblock": {},
     "cellblockid": "733773573",
     "cellblockuid": {}
    },
    "floatposition": {
     "left": 362,
     "top": 122
    },
    "floatsize": {
     "width": 1110
    }
   },
   "outputs": [
    {
     "name": "stdout",
     "output_type": "stream",
     "text": [
      "ping: gstatic.co: Name or service not known\r\n"
     ]
    }
   ],
   "source": [
    "!ping gstatic.co"
   ]
  },
  {
   "cell_type": "code",
   "execution_count": null,
   "metadata": {
    "floatbook": {
     "cellblockid": "88985195"
    }
   },
   "outputs": [],
   "source": []
  },
  {
   "cell_type": "code",
   "execution_count": null,
   "metadata": {
    "floatbook": {
     "cellblock": {},
     "cellblockid": "229769761",
     "cellblockuid": {}
    },
    "floatposition": {
     "left": 307,
     "top": 164
    },
    "floatsize": {
     "width": 910
    }
   },
   "outputs": [],
   "source": []
  },
  {
   "cell_type": "code",
   "execution_count": null,
   "metadata": {
    "floatbook": {
     "cellblock": {},
     "cellblockid": "80205444",
     "cellblockuid": {}
    },
    "floatposition": {
     "left": 212,
     "top": 35
    },
    "floatsize": {
     "width": 910
    }
   },
   "outputs": [],
   "source": []
  },
  {
   "cell_type": "code",
   "execution_count": null,
   "metadata": {
    "floatbook": {
     "cellblock": {},
     "cellblockid": "372512883",
     "cellblockuid": {}
    },
    "floatposition": {
     "left": -108,
     "top": -92
    },
    "floatsize": {
     "width": 910
    }
   },
   "outputs": [],
   "source": [
    "c"
   ]
  },
  {
   "cell_type": "code",
   "execution_count": null,
   "metadata": {
    "floatbook": {
     "cellblock": {},
     "cellblockid": "463177130",
     "cellblockuid": {}
    },
    "floatposition": {
     "left": 307,
     "top": 164
    },
    "floatsize": {
     "width": 819
    }
   },
   "outputs": [],
   "source": []
  }
 ],
 "metadata": {
  "floatbook": {
   "cellblocks": {
    "115329380": {
     "position": {
      "left": "226.772px",
      "top": "402.692px"
     }
    },
    "128841680": {
     "position": {
      "left": "481px",
      "top": "277px"
     }
    },
    "173188883": {
     "position": {
      "left": "261.131px",
      "top": "285.87px"
     }
    },
    "194823501": {
     "position": {
      "left": "412.577px",
      "top": "192.536px"
     }
    },
    "202525615": {
     "position": {
      "left": "195.681px",
      "top": "275.038px"
     }
    },
    "205510562": {
     "position": {
      "left": "125.301px",
      "top": "174.199px"
     }
    },
    "215860850": {
     "position": {
      "left": "-9.62063px",
      "top": "351.84px"
     }
    },
    "238960054": {
     "position": {
      "left": "-83.3866px",
      "top": "230.147px"
     }
    },
    "255239399": {
     "position": {
      "left": "97px",
      "top": "215px"
     }
    },
    "266505702": {
     "position": {
      "left": "372px",
      "top": "142px"
     }
    },
    "272559585": {
     "position": {
      "left": "125px",
      "top": "174px"
     }
    },
    "3358116": {
     "position": {
      "left": "416.582px",
      "top": "260.827px"
     }
    },
    "34754153": {
     "position": {
      "left": "314.781px",
      "top": "-68.7628px"
     }
    },
    "364503762": {
     "position": {
      "left": "314px",
      "top": "-68px"
     }
    },
    "372512883": {
     "position": {
      "left": "29.7887px",
      "top": "318.261px"
     }
    },
    "396669224": {
     "position": {
      "left": "557px",
      "top": "328px"
     }
    },
    "405933741": {
     "position": {
      "left": "381px",
      "top": "174px"
     }
    },
    "418990860": {
     "position": {
      "left": "381.566px",
      "top": "174.852px"
     }
    },
    "4343783": {
     "position": {
      "left": "115.448px",
      "top": "343.594px"
     }
    },
    "463177130": {
     "position": {
      "left": "677.499px",
      "top": "128.646px"
     }
    },
    "476770319": {
     "position": {
      "left": "125px",
      "top": "174px"
     }
    },
    "50211005": {
     "position": {
      "left": "355.783px",
      "top": "-70.0448px"
     }
    },
    "517420779": {
     "position": {
      "left": "241.434px",
      "top": "256.714px"
     }
    },
    "544107978": {
     "position": {
      "left": "381px",
      "top": "174px"
     }
    },
    "575186760": {
     "position": {
      "left": "557.742px",
      "top": "328.533px"
     }
    },
    "587126988": {
     "position": {
      "left": "623px",
      "top": "74px"
     }
    },
    "65800691": {
     "position": {
      "left": "314px",
      "top": "-68px"
     }
    },
    "685239359": {
     "position": {
      "left": "818.23px",
      "top": "187.222px"
     }
    },
    "705448235": {
     "position": {
      "left": "381px",
      "top": "174px"
     }
    },
    "752208905": {
     "position": {
      "left": "557px",
      "top": "328px"
     }
    },
    "799013167": {
     "position": {
      "left": "-221.252px",
      "top": "79.738px"
     }
    },
    "80205444": {
     "position": {
      "left": "-41.985px",
      "top": "412.847px"
     }
    },
    "825966074": {
     "position": {
      "left": "-232px",
      "top": "-73px"
     }
    },
    "868971774": {
     "position": {
      "left": "703.68px",
      "top": "94.8319px"
     }
    },
    "88611760": {
     "position": {
      "left": "557px",
      "top": "328px"
     }
    },
    "88985195": {
     "position": {
      "left": "340.845px",
      "top": "61.8469px"
     }
    },
    "903666077": {
     "position": {
      "left": "-115.802px",
      "top": "-140.988px"
     }
    },
    "9170548": {
     "position": {
      "left": "123.694px",
      "top": "112.699px"
     }
    },
    "945995332": {
     "position": {
      "left": "381px",
      "top": "174px"
     }
    },
    "97889618": {
     "position": {
      "left": "-281.291px",
      "top": "-72.2684px"
     }
    },
    "981805720": {
     "position": {
      "left": "469.189px",
      "top": "136.754px"
     }
    }
   }
  },
  "kernelspec": {
   "display_name": "Python 3",
   "language": "python",
   "name": "python3"
  },
  "language_info": {
   "codemirror_mode": {
    "name": "ipython",
    "version": 3
   },
   "file_extension": ".py",
   "mimetype": "text/x-python",
   "name": "python",
   "nbconvert_exporter": "python",
   "pygments_lexer": "ipython3",
   "version": "3.8.3"
  }
 },
 "nbformat": 4,
 "nbformat_minor": 4
}
