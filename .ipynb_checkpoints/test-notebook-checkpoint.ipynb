{
 "cells": [
  {
   "cell_type": "code",
   "execution_count": null,
   "metadata": {
    "floatbook": {
     "cellblock": {},
     "cellblockid": "369298608",
     "cellblockuid": {}
    },
    "floatposition": {
     "left": 307,
     "top": 164
    },
    "floatsize": {
     "width": 819
    }
   },
   "outputs": [],
   "source": []
  },
  {
   "cell_type": "code",
   "execution_count": null,
   "metadata": {
    "floatbook": {
     "cellblock": {},
     "cellblockid": "369298608",
     "cellblockuid": {}
    },
    "floatposition": {
     "left": -4,
     "top": 71
    },
    "floatsize": {
     "width": 1110
    }
   },
   "outputs": [],
   "source": []
  },
  {
   "cell_type": "code",
   "execution_count": null,
   "metadata": {
    "floatbook": {
     "cellblock": {},
     "cellblockid": "982377435",
     "cellblockuid": {}
    },
    "floatposition": {
     "left": 307,
     "top": 164
    },
    "floatsize": {
     "width": 910
    }
   },
   "outputs": [],
   "source": []
  },
  {
   "cell_type": "code",
   "execution_count": null,
   "metadata": {
    "floatbook": {
     "cellblock": {},
     "cellblockid": "294539030",
     "cellblockuid": {}
    },
    "floatposition": {
     "left": 307,
     "top": 164
    },
    "floatsize": {
     "width": 1012
    }
   },
   "outputs": [],
   "source": [
    "mn"
   ]
  },
  {
   "cell_type": "code",
   "execution_count": null,
   "metadata": {
    "floatbook": {
     "cellblock": {},
     "cellblockid": "306956293",
     "cellblockuid": {}
    },
    "floatposition": {
     "left": -4,
     "top": 71
    },
    "floatsize": {
     "width": 1110
    }
   },
   "outputs": [],
   "source": []
  },
  {
   "cell_type": "code",
   "execution_count": null,
   "metadata": {
    "floatbook": {
     "cellblockid": "50354344"
    }
   },
   "outputs": [],
   "source": []
  },
  {
   "cell_type": "code",
   "execution_count": null,
   "metadata": {
    "floatbook": {
     "cellblockid": "527879568"
    }
   },
   "outputs": [],
   "source": []
  },
  {
   "cell_type": "code",
   "execution_count": null,
   "metadata": {
    "floatbook": {
     "cellblock": {},
     "cellblockid": "762292779",
     "cellblockuid": {}
    },
    "floatposition": {
     "left": -4,
     "top": 71
    },
    "floatsize": {
     "width": 708.969
    }
   },
   "outputs": [],
   "source": [
    "a"
   ]
  },
  {
   "cell_type": "code",
   "execution_count": null,
   "metadata": {
    "floatbook": {
     "cellblock": {},
     "cellblockid": "129616709",
     "cellblockuid": {}
    },
    "floatposition": {
     "left": 307,
     "top": 164
    }
   },
   "outputs": [],
   "source": []
  },
  {
   "cell_type": "code",
   "execution_count": null,
   "metadata": {
    "floatbook": {
     "cellblock": {},
     "cellblockid": "272559585",
     "cellblockuid": {}
    },
    "floatposition": {
     "left": 98,
     "top": -65
    },
    "floatsize": {
     "width": 909.969
    }
   },
   "outputs": [],
   "source": [
    "djkkjnk jkhjh"
   ]
  },
  {
   "cell_type": "code",
   "execution_count": null,
   "metadata": {
    "floatbook": {
     "cellblock": {},
     "cellblockid": "903666077",
     "cellblockuid": {}
    },
    "floatposition": {
     "left": -4,
     "top": 71
    },
    "floatsize": {
     "width": 1110
    }
   },
   "outputs": [],
   "source": []
  },
  {
   "cell_type": "code",
   "execution_count": null,
   "metadata": {
    "floatbook": {
     "cellblock": {},
     "cellblockid": "364503762",
     "cellblockuid": {}
    },
    "floatposition": {
     "left": -4,
     "top": 71
    },
    "floatsize": {
     "width": 910
    }
   },
   "outputs": [],
   "source": []
  },
  {
   "cell_type": "code",
   "execution_count": null,
   "metadata": {
    "floatbook": {
     "cellblockid": "88985195"
    }
   },
   "outputs": [],
   "source": []
  },
  {
   "cell_type": "code",
   "execution_count": null,
   "metadata": {
    "floatbook": {
     "cellblock": {},
     "cellblockid": "767242592",
     "cellblockuid": {}
    },
    "floatposition": {
     "left": 212,
     "top": 35
    },
    "floatsize": {
     "width": 910
    }
   },
   "outputs": [],
   "source": []
  },
  {
   "cell_type": "code",
   "execution_count": null,
   "metadata": {
    "floatbook": {
     "cellblock": {},
     "cellblockid": "338604009",
     "cellblockuid": {}
    },
    "floatposition": {
     "left": 146,
     "top": 204
    }
   },
   "outputs": [],
   "source": []
  },
  {
   "cell_type": "code",
   "execution_count": null,
   "metadata": {
    "floatbook": {
     "cellblock": {},
     "cellblockid": "912590833",
     "cellblockuid": {}
    },
    "floatposition": {
     "left": 86,
     "top": 145
    },
    "floatsize": {
     "width": 1110
    }
   },
   "outputs": [],
   "source": []
  },
  {
   "cell_type": "code",
   "execution_count": 2,
   "metadata": {
    "floatbook": {
     "cellblock": {},
     "cellblockid": "426425291",
     "cellblockuid": {}
    },
    "floatposition": {
     "left": 362,
     "top": 122
    },
    "floatsize": {
     "width": 1110
    }
   },
   "outputs": [
    {
     "name": "stdout",
     "output_type": "stream",
     "text": [
      "ping: gstatic.co: Name or service not known\r\n"
     ]
    }
   ],
   "source": [
    "!ping gstatic.co"
   ]
  },
  {
   "cell_type": "code",
   "execution_count": null,
   "metadata": {
    "floatbook": {
     "cellblock": {},
     "cellblockid": "912590833",
     "cellblockuid": {}
    },
    "floatposition": {
     "left": -194,
     "top": -14
    },
    "floatsize": {
     "width": 910
    }
   },
   "outputs": [],
   "source": []
  },
  {
   "cell_type": "code",
   "execution_count": null,
   "metadata": {
    "floatbook": {
     "cellblock": {},
     "cellblockid": "41772817",
     "cellblockuid": {}
    },
    "floatposition": {
     "left": -4,
     "top": 71
    },
    "floatsize": {
     "width": 910
    }
   },
   "outputs": [],
   "source": []
  },
  {
   "cell_type": "code",
   "execution_count": null,
   "metadata": {
    "floatbook": {
     "cellblock": {},
     "cellblockid": "81677104",
     "cellblockuid": {}
    },
    "floatposition": {
     "left": -108,
     "top": -92
    },
    "floatsize": {
     "width": 910
    }
   },
   "outputs": [],
   "source": [
    "c"
   ]
  },
  {
   "cell_type": "code",
   "execution_count": null,
   "metadata": {
    "floatbook": {
     "cellblock": {},
     "cellblockid": "276869380",
     "cellblockuid": {}
    },
    "floatposition": {
     "left": 307,
     "top": 164
    },
    "floatsize": {
     "width": 910
    }
   },
   "outputs": [],
   "source": []
  },
  {
   "cell_type": "code",
   "execution_count": null,
   "metadata": {
    "floatbook": {
     "cellblockid": "107903776"
    }
   },
   "outputs": [],
   "source": []
  }
 ],
 "metadata": {
  "floatbook": {
   "cellblocks": {
    "107903776": {
     "position": {
      "left": "24.3578px",
      "top": "-130.488px"
     }
    },
    "126728959": {
     "position": {
      "left": "52.6807px",
      "top": "688.417px"
     }
    },
    "128320641": {
     "position": {
      "left": "0px",
      "top": "0px"
     }
    },
    "131070458": {
     "position": {
      "left": "-53.5645px",
      "top": "659.255px"
     }
    },
    "1354604": {
     "position": {
      "left": "-288.814px",
      "top": "-183.517px"
     }
    },
    "136294811": {
     "position": {
      "left": "401.968px",
      "top": "85.9018px"
     }
    },
    "13833480": {
     "position": {
      "left": "298.52px",
      "top": "806.995px"
     }
    },
    "141253865": {
     "position": {
      "left": "-206.762px",
      "top": "951.107px"
     }
    },
    "223574945": {
     "position": {
      "left": "421.187px",
      "top": "213.602px"
     }
    },
    "2673571": {
     "position": {
      "left": "-15.9759px",
      "top": "579.786px"
     }
    },
    "276869380": {
     "position": {
      "left": "-294.033px",
      "top": "-156.586px"
     }
    },
    "280917457": {
     "position": {
      "left": "456px",
      "top": "289px"
     }
    },
    "282211565": {
     "position": {
      "left": "-65.7606px",
      "top": "482.176px"
     }
    },
    "325343703": {
     "position": {
      "left": "-162.456px",
      "top": "702.992px"
     }
    },
    "338604009": {
     "position": {
      "left": "-202.098px",
      "top": "1096.66px"
     }
    },
    "346022549": {
     "position": {
      "left": "348.983px",
      "top": "255.721px"
     }
    },
    "35231660": {
     "position": {
      "left": "616.142px",
      "top": "280.571px"
     }
    },
    "361211042": {
     "position": {
      "left": "186.915px",
      "top": "344.968px"
     }
    },
    "362289532": {
     "position": {
      "left": "-15.8419px",
      "top": "463.104px"
     }
    },
    "367886573": {
     "position": {
      "left": "-247.221px",
      "top": "317.267px"
     }
    },
    "369298608": {
     "position": {
      "left": "351.791px",
      "top": "554.432px"
     }
    },
    "376081022": {
     "position": {
      "left": "-53.8363px",
      "top": "1103.88px"
     }
    },
    "386306019": {
     "position": {
      "left": "-207.585px",
      "top": "-228.644px"
     }
    },
    "393435518": {
     "position": {
      "left": "29.7352px",
      "top": "734.463px"
     }
    },
    "399474719": {
     "position": {
      "left": "304.329px",
      "top": "316.667px"
     }
    },
    "41772817": {
     "position": {
      "left": "-381.651px",
      "top": "167.089px"
     }
    },
    "426425291": {
     "position": {
      "left": "-693.691px",
      "top": "402.44px"
     }
    },
    "428892175": {
     "position": {
      "left": "163.226px",
      "top": "466.199px"
     }
    },
    "485484596": {
     "position": {
      "left": "66.2169px",
      "top": "621.864px"
     }
    },
    "519770429": {
     "position": {
      "left": "379.068px",
      "top": "-171.483px"
     }
    },
    "559707415": {
     "position": {
      "left": "437px",
      "top": "96px"
     }
    },
    "597525376": {
     "position": {
      "left": "201.746px",
      "top": "956.684px"
     }
    },
    "650686593": {
     "position": {
      "left": "-185.541px",
      "top": "197.91px"
     }
    },
    "665809921": {
     "position": {
      "left": "-538.518px",
      "top": "330.933px"
     }
    },
    "71997420": {
     "position": {
      "left": "-90.5262px",
      "top": "928.962px"
     }
    },
    "731517233": {
     "position": {
      "left": "348.542px",
      "top": "516.906px"
     }
    },
    "731621850": {
     "position": {
      "left": "80.1948px",
      "top": "390.692px"
     }
    },
    "736276601": {
     "position": {
      "left": "-370.043px",
      "top": "267.755px"
     }
    },
    "770775925": {
     "position": {
      "left": "264.746px",
      "top": "-60.1696px"
     }
    },
    "777651202": {
     "position": {
      "left": "-170.671px",
      "top": "341.342px"
     }
    },
    "78421957": {
     "position": {
      "left": "-977.755px",
      "top": "502.416px"
     }
    },
    "799539989": {
     "position": {
      "left": "-543.886px",
      "top": "811.708px"
     }
    },
    "804003129": {
     "position": {
      "left": "-25.2365px",
      "top": "728.161px"
     }
    },
    "814121746": {
     "position": {
      "left": "-21.2231px",
      "top": "878.808px"
     }
    },
    "81677104": {
     "position": {
      "left": "15.5446px",
      "top": "346.105px"
     }
    },
    "818201628": {
     "position": {
      "left": "-22px",
      "top": "277px"
     }
    },
    "822744789": {
     "position": {
      "left": "795.227px",
      "top": "490.321px"
     }
    },
    "863183032": {
     "position": {
      "left": "159.161px",
      "top": "471.422px"
     }
    },
    "868409646": {
     "position": {
      "left": "-145.561px",
      "top": "983.192px"
     }
    },
    "879721823": {
     "position": {
      "left": "-86.4496px",
      "top": "826.617px"
     }
    },
    "8836534": {
     "position": {
      "left": "-31.4147px",
      "top": "784.617px"
     }
    },
    "898752246": {
     "position": {
      "left": "417px",
      "top": "283px"
     }
    },
    "912590833": {
     "position": {
      "left": "-812.168px",
      "top": "-36.7427px"
     }
    },
    "958854382": {
     "position": {
      "left": "197.777px",
      "top": "638.654px"
     }
    },
    "965786846": {
     "position": {
      "left": "-38.1612px",
      "top": "710.452px"
     }
    },
    "982377435": {
     "position": {
      "left": "-86.4496px",
      "top": "1027.23px"
     }
    },
    "996265056": {
     "position": {
      "left": "-203.408px",
      "top": "399.943px"
     }
    }
   }
  },
  "kernelspec": {
   "display_name": "Python 3",
   "language": "python",
   "name": "python3"
  },
  "language_info": {
   "codemirror_mode": {
    "name": "ipython",
    "version": 3
   },
   "file_extension": ".py",
   "mimetype": "text/x-python",
   "name": "python",
   "nbconvert_exporter": "python",
   "pygments_lexer": "ipython3",
   "version": "3.8.3"
  }
 },
 "nbformat": 4,
 "nbformat_minor": 4
}
