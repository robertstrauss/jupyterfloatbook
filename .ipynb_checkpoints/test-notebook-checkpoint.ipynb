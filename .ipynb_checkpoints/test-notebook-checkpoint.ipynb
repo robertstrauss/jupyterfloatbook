{
 "cells": [
  {
   "cell_type": "code",
   "execution_count": null,
   "metadata": {
    "floatbook": {
     "floatposition": [
      "118px",
      "353px"
     ],
     "floatwidth": "300px"
    }
   },
   "outputs": [],
   "source": []
  },
  {
   "cell_type": "code",
   "execution_count": null,
   "metadata": {
    "floatbook": {
     "floatposition": [
      "344px",
      "289px"
     ],
     "floatwidth": "681px"
    }
   },
   "outputs": [],
   "source": [
    "asdf\n",
    "\n",
    "asdf\n",
    "as\n",
    "df\n",
    "asd\n",
    "f\n",
    "asd\n",
    "fw\n",
    "fe\n",
    "wef\n",
    "dasdfwf sdfs wefesfaefas efasefasef\n",
    "f \n",
    "ewf\n",
    "2\n"
   ]
  },
  {
   "cell_type": "code",
   "execution_count": null,
   "metadata": {
    "floatbook": {
     "floatposition": [
      "549px",
      "9px"
     ],
     "floatwidth": "578px"
    }
   },
   "outputs": [],
   "source": []
  }
 ],
 "metadata": {
  "kernelspec": {
   "display_name": "Python 3",
   "language": "python",
   "name": "python3"
  },
  "language_info": {
   "codemirror_mode": {
    "name": "ipython",
    "version": 3
   },
   "file_extension": ".py",
   "mimetype": "text/x-python",
   "name": "python",
   "nbconvert_exporter": "python",
   "pygments_lexer": "ipython3",
   "version": "3.8.3"
  }
 },
 "nbformat": 4,
 "nbformat_minor": 4
}
