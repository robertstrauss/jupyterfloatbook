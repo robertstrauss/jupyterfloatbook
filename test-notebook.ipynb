{
 "cells": [
  {
   "cell_type": "code",
   "execution_count": null,
   "metadata": {
    "floatbook": {
     "cellblock": {},
     "cellblockid": "199522309",
     "cellblockuid": {}
    },
    "floatposition": {
     "left": 42,
     "top": 252
    },
    "floatsize": {
     "width": 910
    }
   },
   "outputs": [],
   "source": []
  },
  {
   "cell_type": "code",
   "execution_count": null,
   "metadata": {
    "floatbook": {
     "cellblock": {},
     "cellblockid": "736757203",
     "cellblockuid": {}
    }
   },
   "outputs": [],
   "source": []
  },
  {
   "cell_type": "code",
   "execution_count": null,
   "metadata": {
    "floatbook": {
     "cellblock": {},
     "cellblockid": "969255447",
     "cellblockuid": {}
    },
    "floatposition": {
     "left": -1163,
     "top": 99
    },
    "floatsize": {
     "width": 1012
    }
   },
   "outputs": [],
   "source": [
    "mn"
   ]
  },
  {
   "cell_type": "code",
   "execution_count": null,
   "metadata": {
    "floatbook": {
     "cellblock": {},
     "cellblockid": "726749085",
     "cellblockuid": {}
    },
    "floatposition": {
     "left": -627,
     "top": 343
    },
    "floatsize": {
     "width": 910
    }
   },
   "outputs": [],
   "source": []
  },
  {
   "cell_type": "code",
   "execution_count": null,
   "metadata": {
    "floatbook": {
     "cellblock": {},
     "cellblockid": "268504222",
     "cellblockuid": {}
    },
    "floatposition": {
     "left": 0,
     "top": 261
    },
    "floatsize": {
     "width": 1110
    }
   },
   "outputs": [],
   "source": []
  },
  {
   "cell_type": "code",
   "execution_count": null,
   "metadata": {
    "floatbook": {
     "cellblock": {},
     "cellblockid": "229769761",
     "cellblockuid": {}
    },
    "floatposition": {
     "left": -790,
     "top": -38
    },
    "floatsize": {
     "width": 910
    }
   },
   "outputs": [],
   "source": [
    "c"
   ]
  },
  {
   "cell_type": "code",
   "execution_count": null,
   "metadata": {
    "floatbook": {
     "cellblock": {},
     "cellblockid": "754020739",
     "cellblockuid": {}
    },
    "floatposition": {
     "left": -585,
     "top": 422
    },
    "floatsize": {
     "width": 819
    }
   },
   "outputs": [],
   "source": []
  },
  {
   "cell_type": "code",
   "execution_count": null,
   "metadata": {
    "floatbook": {
     "cellblock": {},
     "cellblockid": "164972000",
     "cellblockuid": {}
    },
    "floatposition": {
     "left": -462,
     "top": 651
    },
    "floatsize": {
     "width": 1110
    }
   },
   "outputs": [],
   "source": []
  },
  {
   "cell_type": "code",
   "execution_count": null,
   "metadata": {
    "floatbook": {
     "cellblock": {},
     "cellblockid": "769335888",
     "cellblockuid": {}
    },
    "floatposition": {
     "left": -293,
     "top": 537
    },
    "floatsize": {
     "width": 910
    }
   },
   "outputs": [],
   "source": []
  },
  {
   "cell_type": "code",
   "execution_count": null,
   "metadata": {
    "floatbook": {
     "cellblock": {},
     "cellblockid": "963928444",
     "cellblockuid": {}
    },
    "floatposition": {
     "left": 0,
     "top": 391
    },
    "floatsize": {
     "width": 708.969
    }
   },
   "outputs": [],
   "source": [
    "a"
   ]
  },
  {
   "cell_type": "code",
   "execution_count": null,
   "metadata": {
    "floatbook": {
     "cellblock": {},
     "cellblockid": "118532731",
     "cellblockuid": {}
    },
    "floatposition": {
     "left": -220,
     "top": 699
    },
    "floatsize": {
     "width": 910
    }
   },
   "outputs": [],
   "source": []
  },
  {
   "cell_type": "code",
   "execution_count": null,
   "metadata": {
    "floatbook": {
     "cellblock": {},
     "cellblockid": "719695316",
     "cellblockuid": {}
    },
    "floatposition": {
     "left": -195,
     "top": 802
    },
    "floatsize": {
     "width": 1110
    }
   },
   "outputs": [],
   "source": []
  },
  {
   "cell_type": "code",
   "execution_count": null,
   "metadata": {
    "floatbook": {
     "cellblock": {},
     "cellblockid": "682985429",
     "cellblockuid": {}
    },
    "floatposition": {
     "left": -74,
     "top": 746
    },
    "floatsize": {
     "width": 910
    }
   },
   "outputs": [],
   "source": []
  },
  {
   "cell_type": "code",
   "execution_count": null,
   "metadata": {
    "floatbook": {
     "cellblock": {},
     "cellblockid": "332577736",
     "cellblockuid": {}
    },
    "floatposition": {
     "left": 1538,
     "top": 741
    },
    "floatsize": {
     "width": 1110
    }
   },
   "outputs": [],
   "source": []
  },
  {
   "cell_type": "code",
   "execution_count": null,
   "metadata": {
    "floatbook": {
     "cellblock": {},
     "cellblockid": "973872308",
     "cellblockuid": {}
    },
    "floatposition": {
     "left": -536,
     "top": -184
    },
    "floatsize": {
     "width": 1110
    }
   },
   "outputs": [],
   "source": []
  },
  {
   "cell_type": "code",
   "execution_count": null,
   "metadata": {
    "floatbook": {
     "cellblock": {},
     "cellblockid": "733773573",
     "cellblockuid": {}
    },
    "floatposition": {
     "left": -536,
     "top": -184
    },
    "floatsize": {
     "width": 909.969
    }
   },
   "outputs": [],
   "source": [
    "djkkjnk jkhjh"
   ]
  },
  {
   "cell_type": "code",
   "execution_count": null,
   "metadata": {
    "floatbook": {
     "cellblock": {},
     "cellblockid": "840454535",
     "cellblockuid": {}
    },
    "floatposition": {
     "left": -203,
     "top": -440
    },
    "floatsize": {
     "width": 910
    }
   },
   "outputs": [],
   "source": []
  },
  {
   "cell_type": "code",
   "execution_count": null,
   "metadata": {
    "floatbook": {
     "cellblock": {},
     "cellblockid": "552084761",
     "cellblockuid": {}
    },
    "floatposition": {
     "left": -203,
     "top": -440
    }
   },
   "outputs": [],
   "source": []
  }
 ],
 "metadata": {
  "floatbook": {
   "floatpositions": [
    {
     "x": 143,
     "y": 485
    },
    {
     "x": 77,
     "y": 286
    },
    {
     "x": 109,
     "y": 119
    },
    {
     "x": 196,
     "y": 187
    },
    {
     "x": 173,
     "y": 395
    }
   ],
   "floatsizes": []
  },
  "kernelspec": {
   "display_name": "Python 3",
   "language": "python",
   "name": "python3"
  },
  "language_info": {
   "codemirror_mode": {
    "name": "ipython",
    "version": 3
   },
   "file_extension": ".py",
   "mimetype": "text/x-python",
   "name": "python",
   "nbconvert_exporter": "python",
   "pygments_lexer": "ipython3",
   "version": "3.8.3"
  }
 },
 "nbformat": 4,
 "nbformat_minor": 4
}
