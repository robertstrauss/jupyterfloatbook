{
 "cells": [
  {
   "cell_type": "markdown",
   "metadata": {
    "floatbook": {},
    "floatposition": {
     "left": -379,
     "top": -283
    },
    "floatsize": {
     "width": 910
    }
   },
   "source": []
  },
  {
   "cell_type": "code",
   "execution_count": null,
   "metadata": {
    "floatbook": {},
    "floatposition": {
     "left": -357,
     "top": 1075
    },
    "floatsize": {
     "width": 910
    }
   },
   "outputs": [],
   "source": []
  },
  {
   "cell_type": "code",
   "execution_count": null,
   "metadata": {
    "floatbook": {},
    "floatposition": {
     "left": -111,
     "top": 975
    },
    "floatsize": {
     "width": 1110
    }
   },
   "outputs": [],
   "source": []
  },
  {
   "cell_type": "code",
   "execution_count": null,
   "metadata": {
    "floatbook": {},
    "floatposition": {
     "left": 146,
     "top": 864
    }
   },
   "outputs": [],
   "source": []
  },
  {
   "cell_type": "code",
   "execution_count": null,
   "metadata": {
    "floatbook": {},
    "floatposition": {
     "left": 146,
     "top": 822
    }
   },
   "outputs": [],
   "source": []
  },
  {
   "cell_type": "code",
   "execution_count": null,
   "metadata": {
    "floatbook": {},
    "floatposition": {
     "left": 1538,
     "top": 741
    },
    "floatsize": {
     "width": 1110
    }
   },
   "outputs": [],
   "source": []
  },
  {
   "cell_type": "code",
   "execution_count": null,
   "metadata": {
    "floatbook": {},
    "floatposition": {
     "left": -74,
     "top": 746
    },
    "floatsize": {
     "width": 910
    }
   },
   "outputs": [],
   "source": []
  },
  {
   "cell_type": "code",
   "execution_count": null,
   "metadata": {
    "floatbook": {},
    "floatposition": {
     "left": -195,
     "top": 802
    },
    "floatsize": {
     "width": 1110
    }
   },
   "outputs": [],
   "source": []
  },
  {
   "cell_type": "code",
   "execution_count": null,
   "metadata": {
    "floatbook": {},
    "floatposition": {
     "left": -220,
     "top": 699
    },
    "floatsize": {
     "width": 910
    }
   },
   "outputs": [],
   "source": []
  },
  {
   "cell_type": "code",
   "execution_count": null,
   "metadata": {
    "floatbook": {},
    "floatposition": {
     "left": 1409,
     "top": 443
    },
    "floatsize": {
     "width": 1110
    }
   },
   "outputs": [],
   "source": []
  },
  {
   "cell_type": "code",
   "execution_count": null,
   "metadata": {
    "floatbook": {},
    "floatposition": {
     "left": -293,
     "top": 537
    },
    "floatsize": {
     "width": 910
    }
   },
   "outputs": [],
   "source": []
  },
  {
   "cell_type": "code",
   "execution_count": null,
   "metadata": {
    "floatbook": {},
    "floatposition": {
     "left": -462,
     "top": 651
    },
    "floatsize": {
     "width": 1110
    }
   },
   "outputs": [],
   "source": []
  },
  {
   "cell_type": "code",
   "execution_count": null,
   "metadata": {
    "floatbook": {},
    "floatposition": {
     "left": -585,
     "top": 422
    },
    "floatsize": {
     "width": 819
    }
   },
   "outputs": [],
   "source": []
  },
  {
   "cell_type": "code",
   "execution_count": null,
   "metadata": {
    "floatbook": {},
    "floatposition": {
     "left": -367,
     "top": 198
    },
    "floatsize": {
     "width": 910
    }
   },
   "outputs": [],
   "source": []
  },
  {
   "cell_type": "code",
   "execution_count": null,
   "metadata": {
    "floatbook": {},
    "floatposition": {
     "left": -898,
     "top": 273
    },
    "floatsize": {
     "width": 910
    }
   },
   "outputs": [],
   "source": []
  },
  {
   "cell_type": "code",
   "execution_count": null,
   "metadata": {
    "floatbook": {},
    "floatposition": {
     "left": -1163,
     "top": 99
    },
    "floatsize": {
     "width": 1012
    }
   },
   "outputs": [],
   "source": [
    "mn"
   ]
  },
  {
   "cell_type": "code",
   "execution_count": null,
   "metadata": {
    "floatbook": {},
    "floatposition": {
     "left": -660,
     "top": -114
    },
    "floatsize": {
     "width": 910
    }
   },
   "outputs": [],
   "source": [
    "b"
   ]
  },
  {
   "cell_type": "code",
   "execution_count": null,
   "metadata": {
    "floatbook": {},
    "floatposition": {
     "left": -1913,
     "top": -294
    },
    "floatsize": {
     "width": 909.969
    }
   },
   "outputs": [],
   "source": [
    "djkkjnk jkhjh"
   ]
  },
  {
   "cell_type": "code",
   "execution_count": null,
   "metadata": {
    "floatbook": {}
   },
   "outputs": [],
   "source": []
  },
  {
   "cell_type": "code",
   "execution_count": null,
   "metadata": {
    "floatbook": {},
    "floatposition": {
     "left": -127,
     "top": 45
    },
    "floatsize": {
     "width": 909.969
    }
   },
   "outputs": [],
   "source": [
    "asefeehbb kj "
   ]
  },
  {
   "cell_type": "code",
   "execution_count": null,
   "metadata": {
    "floatbook": {},
    "floatposition": {
     "left": -790,
     "top": -38
    },
    "floatsize": {
     "width": 910
    }
   },
   "outputs": [],
   "source": [
    "c"
   ]
  },
  {
   "cell_type": "code",
   "execution_count": null,
   "metadata": {
    "floatbook": {},
    "floatposition": {
     "left": -217,
     "top": -273
    },
    "floatsize": {
     "width": 708.969
    }
   },
   "outputs": [],
   "source": [
    "a"
   ]
  },
  {
   "cell_type": "code",
   "execution_count": null,
   "metadata": {
    "floatbook": {},
    "floatposition": {
     "left": -627,
     "top": 343
    },
    "floatsize": {
     "width": 910
    }
   },
   "outputs": [],
   "source": []
  }
 ],
 "metadata": {
  "floatbook": {
   "floatpositions": [
    {
     "x": 143,
     "y": 485
    },
    {
     "x": 77,
     "y": 286
    },
    {
     "x": 109,
     "y": 119
    },
    {
     "x": 196,
     "y": 187
    },
    {
     "x": 173,
     "y": 395
    }
   ],
   "floatsizes": []
  },
  "kernelspec": {
   "display_name": "Python 3",
   "language": "python",
   "name": "python3"
  },
  "language_info": {
   "codemirror_mode": {
    "name": "ipython",
    "version": 3
   },
   "file_extension": ".py",
   "mimetype": "text/x-python",
   "name": "python",
   "nbconvert_exporter": "python",
   "pygments_lexer": "ipython3",
   "version": "3.8.3"
  }
 },
 "nbformat": 4,
 "nbformat_minor": 4
}
